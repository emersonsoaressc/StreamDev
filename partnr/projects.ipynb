{
 "cells": [
  {
   "cell_type": "code",
   "execution_count": 1,
   "metadata": {},
   "outputs": [],
   "source": [
    "import pandas as pd \n",
    "from numpy import append\n",
    "import vectorbt as vbt\n",
    "import seaborn as sns\n",
    "sns.set()"
   ]
  },
  {
   "cell_type": "code",
   "execution_count": 13,
   "metadata": {},
   "outputs": [],
   "source": [
    "def backtest_stock(tickers='BBAS3.SA',benchmark='^BVSP',strategy=''):\n",
    "    try:\n",
    "        dados = vbt.YFData.download(\n",
    "            tickers, \n",
    "            benchmark=benchmark,\n",
    "            missing_index='drop',\n",
    "            start='2000-01-01', \n",
    "            interval='1d').get('Close')\n",
    "        retornos = dados/dados.iloc[0]\n",
    "    except:\n",
    "        dados = ''\n",
    "        retornos = ''\n",
    "    return dados, retornos"
   ]
  },
  {
   "cell_type": "code",
   "execution_count": 10,
   "metadata": {},
   "outputs": [
    {
     "name": "stdout",
     "output_type": "stream",
     "text": [
      "['BBAS3.SA', 'ABEV3.SA', 'VALE3.SA', '^BVSP']\n"
     ]
    }
   ],
   "source": [
    "tickers=(['BBAS3.SA','ABEV3.SA','VALE3.SA'])\n",
    "tickers.append('^BVSP')\n",
    "print(tickers)"
   ]
  },
  {
   "cell_type": "code",
   "execution_count": 14,
   "metadata": {},
   "outputs": [
    {
     "name": "stderr",
     "output_type": "stream",
     "text": [
      "c:\\Users\\Samsung\\OneDrive - UDESC Universidade do Estado de Santa Catarina\\dev\\StreamDev\\StreamDev\\venv\\lib\\site-packages\\dateparser\\date_parser.py:35: PytzUsageWarning: The localize method is no longer necessary, as this time zone supports the fold attribute (PEP 495). For more details on migrating to a PEP 495-compliant implementation, see https://pytz-deprecation-shim.readthedocs.io/en/latest/migration.html\n",
      "  date_obj = stz.localize(date_obj)\n",
      "c:\\Users\\Samsung\\OneDrive - UDESC Universidade do Estado de Santa Catarina\\dev\\StreamDev\\StreamDev\\venv\\lib\\site-packages\\dateparser\\date_parser.py:35: PytzUsageWarning: The localize method is no longer necessary, as this time zone supports the fold attribute (PEP 495). For more details on migrating to a PEP 495-compliant implementation, see https://pytz-deprecation-shim.readthedocs.io/en/latest/migration.html\n",
      "  date_obj = stz.localize(date_obj)\n",
      "c:\\Users\\Samsung\\OneDrive - UDESC Universidade do Estado de Santa Catarina\\dev\\StreamDev\\StreamDev\\venv\\lib\\site-packages\\dateparser\\date_parser.py:35: PytzUsageWarning: The localize method is no longer necessary, as this time zone supports the fold attribute (PEP 495). For more details on migrating to a PEP 495-compliant implementation, see https://pytz-deprecation-shim.readthedocs.io/en/latest/migration.html\n",
      "  date_obj = stz.localize(date_obj)\n",
      "c:\\Users\\Samsung\\OneDrive - UDESC Universidade do Estado de Santa Catarina\\dev\\StreamDev\\StreamDev\\venv\\lib\\site-packages\\dateparser\\date_parser.py:35: PytzUsageWarning: The localize method is no longer necessary, as this time zone supports the fold attribute (PEP 495). For more details on migrating to a PEP 495-compliant implementation, see https://pytz-deprecation-shim.readthedocs.io/en/latest/migration.html\n",
      "  date_obj = stz.localize(date_obj)\n",
      "c:\\Users\\Samsung\\OneDrive - UDESC Universidade do Estado de Santa Catarina\\dev\\StreamDev\\StreamDev\\venv\\lib\\site-packages\\vectorbt\\data\\base.py:527: UserWarning: Symbols have mismatching index. Dropping missing data points.\n",
      "  data = cls.align_index(data, missing=missing_index)\n"
     ]
    },
    {
     "data": {
      "text/plain": [
       "(symbol                      BBAS3.SA   ABEV3.SA   VALE3.SA     ^BVSP\n",
       " Date                                                                \n",
       " 2000-01-05 00:00:00+00:00   1.137443   0.321626   1.753232   16245.0\n",
       " 2000-01-06 00:00:00+00:00   1.153301   0.305322   1.753232   16107.0\n",
       " 2000-01-07 00:00:00+00:00   1.127352   0.305322   1.817375   16309.0\n",
       " 2000-01-10 00:00:00+00:00   1.189342   0.305322   1.967041   17022.0\n",
       " 2000-01-11 00:00:00+00:00   1.173484   0.305322   1.971318   16573.0\n",
       " ...                              ...        ...        ...       ...\n",
       " 2022-06-09 00:00:00+00:00  34.879486  13.610000  84.540001  107094.0\n",
       " 2022-06-10 00:00:00+00:00  34.293858  13.590000  84.559998  105481.0\n",
       " 2022-06-13 00:00:00+00:00  33.509716  13.330000  81.879997  102598.0\n",
       " 2022-06-14 00:00:00+00:00  33.520000  13.150000  81.720001  102063.0\n",
       " 2022-06-15 00:00:00+00:00  34.049999  13.060000  81.669998  102807.0\n",
       " \n",
       " [5537 rows x 4 columns],\n",
       " symbol                      BBAS3.SA   ABEV3.SA   VALE3.SA     ^BVSP\n",
       " Date                                                                \n",
       " 2000-01-05 00:00:00+00:00   1.000000   1.000000   1.000000  1.000000\n",
       " 2000-01-06 00:00:00+00:00   1.013942   0.949309   1.000000  0.991505\n",
       " 2000-01-07 00:00:00+00:00   0.991128   0.949309   1.036585  1.003940\n",
       " 2000-01-10 00:00:00+00:00   1.045627   0.949309   1.121951  1.047830\n",
       " 2000-01-11 00:00:00+00:00   1.031685   0.949309   1.124390  1.020191\n",
       " ...                              ...        ...        ...       ...\n",
       " 2022-06-09 00:00:00+00:00  30.664813  42.316248  48.219507  6.592428\n",
       " 2022-06-10 00:00:00+00:00  30.149949  42.254066  48.230913  6.493136\n",
       " 2022-06-13 00:00:00+00:00  29.460559  41.445672  46.702308  6.315666\n",
       " 2022-06-14 00:00:00+00:00  29.469601  40.886015  46.611050  6.282733\n",
       " 2022-06-15 00:00:00+00:00  29.935557  40.606189  46.582530  6.328532\n",
       " \n",
       " [5537 rows x 4 columns])"
      ]
     },
     "execution_count": 14,
     "metadata": {},
     "output_type": "execute_result"
    }
   ],
   "source": [
    "\n",
    "dados, retornos = backtest_stock(tickers=tickers)\n",
    "dados, retornos"
   ]
  }
 ],
 "metadata": {
  "kernelspec": {
   "display_name": "Python 3.9.13 ('venv': venv)",
   "language": "python",
   "name": "python3"
  },
  "language_info": {
   "codemirror_mode": {
    "name": "ipython",
    "version": 3
   },
   "file_extension": ".py",
   "mimetype": "text/x-python",
   "name": "python",
   "nbconvert_exporter": "python",
   "pygments_lexer": "ipython3",
   "version": "3.9.13"
  },
  "orig_nbformat": 4,
  "vscode": {
   "interpreter": {
    "hash": "38159399971bf565d641a0429d53c7bb6d59746d22e63c12094a03ab6e0ae145"
   }
  }
 },
 "nbformat": 4,
 "nbformat_minor": 2
}
