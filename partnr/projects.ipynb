{
 "cells": [
  {
   "cell_type": "code",
   "execution_count": 1,
   "metadata": {},
   "outputs": [],
   "source": [
    "import pandas as pd \n",
    "from numpy import append\n",
    "import vectorbt as vbt\n",
    "import seaborn as sns\n",
    "sns.set()"
   ]
  },
  {
   "cell_type": "code",
   "execution_count": 4,
   "metadata": {},
   "outputs": [],
   "source": [
    "def backtest_stock(tickers='BBAS3.SA',benchmark='^BVSP',strategy=''):\n",
    "    dados = vbt.YFData.download(\n",
    "        tickers, \n",
    "        benchmark=benchmark,\n",
    "        missing_index='drop',\n",
    "        start='2000-01-01', \n",
    "        interval='1d').get('Close')\n",
    "    dados = dados/dados.iloc[0]\n",
    "    return dados"
   ]
  },
  {
   "cell_type": "code",
   "execution_count": 10,
   "metadata": {},
   "outputs": [
    {
     "name": "stdout",
     "output_type": "stream",
     "text": [
      "['BBAS3.SA', 'ABEV3.SA', 'VALE3.SA', '^BVSP']\n"
     ]
    }
   ],
   "source": [
    "tickers=(['BBAS3.SA','ABEV3.SA','VALE3.SA'])\n",
    "tickers.append('^BVSP')\n",
    "print(tickers)"
   ]
  },
  {
   "cell_type": "code",
   "execution_count": 5,
   "metadata": {},
   "outputs": [
    {
     "name": "stderr",
     "output_type": "stream",
     "text": [
      "c:\\Users\\Samsung\\OneDrive - UDESC Universidade do Estado de Santa Catarina\\dev\\StreamDev\\StreamDev\\venv\\lib\\site-packages\\dateparser\\date_parser.py:35: PytzUsageWarning: The localize method is no longer necessary, as this time zone supports the fold attribute (PEP 495). For more details on migrating to a PEP 495-compliant implementation, see https://pytz-deprecation-shim.readthedocs.io/en/latest/migration.html\n",
      "  date_obj = stz.localize(date_obj)\n",
      "c:\\Users\\Samsung\\OneDrive - UDESC Universidade do Estado de Santa Catarina\\dev\\StreamDev\\StreamDev\\venv\\lib\\site-packages\\dateparser\\date_parser.py:35: PytzUsageWarning: The localize method is no longer necessary, as this time zone supports the fold attribute (PEP 495). For more details on migrating to a PEP 495-compliant implementation, see https://pytz-deprecation-shim.readthedocs.io/en/latest/migration.html\n",
      "  date_obj = stz.localize(date_obj)\n",
      "c:\\Users\\Samsung\\OneDrive - UDESC Universidade do Estado de Santa Catarina\\dev\\StreamDev\\StreamDev\\venv\\lib\\site-packages\\vectorbt\\data\\base.py:527: UserWarning: Symbols have mismatching index. Dropping missing data points.\n",
      "  data = cls.align_index(data, missing=missing_index)\n"
     ]
    },
    {
     "data": {
      "text/html": [
       "<div>\n",
       "<style scoped>\n",
       "    .dataframe tbody tr th:only-of-type {\n",
       "        vertical-align: middle;\n",
       "    }\n",
       "\n",
       "    .dataframe tbody tr th {\n",
       "        vertical-align: top;\n",
       "    }\n",
       "\n",
       "    .dataframe thead th {\n",
       "        text-align: right;\n",
       "    }\n",
       "</style>\n",
       "<table border=\"1\" class=\"dataframe\">\n",
       "  <thead>\n",
       "    <tr style=\"text-align: right;\">\n",
       "      <th>symbol</th>\n",
       "      <th>BBAS3.SA</th>\n",
       "      <th>ABEV3.SA</th>\n",
       "      <th>VALE3.SA</th>\n",
       "    </tr>\n",
       "    <tr>\n",
       "      <th>Date</th>\n",
       "      <th></th>\n",
       "      <th></th>\n",
       "      <th></th>\n",
       "    </tr>\n",
       "  </thead>\n",
       "  <tbody>\n",
       "    <tr>\n",
       "      <th>2000-01-05 00:00:00+00:00</th>\n",
       "      <td>1.000000</td>\n",
       "      <td>1.000000</td>\n",
       "      <td>1.000000</td>\n",
       "    </tr>\n",
       "    <tr>\n",
       "      <th>2000-01-06 00:00:00+00:00</th>\n",
       "      <td>1.013942</td>\n",
       "      <td>0.949309</td>\n",
       "      <td>1.000000</td>\n",
       "    </tr>\n",
       "    <tr>\n",
       "      <th>2000-01-07 00:00:00+00:00</th>\n",
       "      <td>0.991128</td>\n",
       "      <td>0.949309</td>\n",
       "      <td>1.036586</td>\n",
       "    </tr>\n",
       "    <tr>\n",
       "      <th>2000-01-10 00:00:00+00:00</th>\n",
       "      <td>1.045628</td>\n",
       "      <td>0.949309</td>\n",
       "      <td>1.121952</td>\n",
       "    </tr>\n",
       "    <tr>\n",
       "      <th>2000-01-11 00:00:00+00:00</th>\n",
       "      <td>1.031686</td>\n",
       "      <td>0.949309</td>\n",
       "      <td>1.124390</td>\n",
       "    </tr>\n",
       "    <tr>\n",
       "      <th>...</th>\n",
       "      <td>...</td>\n",
       "      <td>...</td>\n",
       "      <td>...</td>\n",
       "    </tr>\n",
       "    <tr>\n",
       "      <th>2022-06-09 00:00:00+00:00</th>\n",
       "      <td>30.664819</td>\n",
       "      <td>42.316256</td>\n",
       "      <td>48.219501</td>\n",
       "    </tr>\n",
       "    <tr>\n",
       "      <th>2022-06-10 00:00:00+00:00</th>\n",
       "      <td>30.149955</td>\n",
       "      <td>42.254074</td>\n",
       "      <td>48.230907</td>\n",
       "    </tr>\n",
       "    <tr>\n",
       "      <th>2022-06-13 00:00:00+00:00</th>\n",
       "      <td>29.460566</td>\n",
       "      <td>41.445680</td>\n",
       "      <td>46.702301</td>\n",
       "    </tr>\n",
       "    <tr>\n",
       "      <th>2022-06-14 00:00:00+00:00</th>\n",
       "      <td>29.469607</td>\n",
       "      <td>40.886022</td>\n",
       "      <td>46.611044</td>\n",
       "    </tr>\n",
       "    <tr>\n",
       "      <th>2022-06-15 00:00:00+00:00</th>\n",
       "      <td>29.935564</td>\n",
       "      <td>40.606197</td>\n",
       "      <td>46.582523</td>\n",
       "    </tr>\n",
       "  </tbody>\n",
       "</table>\n",
       "<p>5549 rows × 3 columns</p>\n",
       "</div>"
      ],
      "text/plain": [
       "symbol                      BBAS3.SA   ABEV3.SA   VALE3.SA\n",
       "Date                                                      \n",
       "2000-01-05 00:00:00+00:00   1.000000   1.000000   1.000000\n",
       "2000-01-06 00:00:00+00:00   1.013942   0.949309   1.000000\n",
       "2000-01-07 00:00:00+00:00   0.991128   0.949309   1.036586\n",
       "2000-01-10 00:00:00+00:00   1.045628   0.949309   1.121952\n",
       "2000-01-11 00:00:00+00:00   1.031686   0.949309   1.124390\n",
       "...                              ...        ...        ...\n",
       "2022-06-09 00:00:00+00:00  30.664819  42.316256  48.219501\n",
       "2022-06-10 00:00:00+00:00  30.149955  42.254074  48.230907\n",
       "2022-06-13 00:00:00+00:00  29.460566  41.445680  46.702301\n",
       "2022-06-14 00:00:00+00:00  29.469607  40.886022  46.611044\n",
       "2022-06-15 00:00:00+00:00  29.935564  40.606197  46.582523\n",
       "\n",
       "[5549 rows x 3 columns]"
      ]
     },
     "execution_count": 5,
     "metadata": {},
     "output_type": "execute_result"
    }
   ],
   "source": [
    "\n",
    "dados = backtest_stock(tickers=['BBAS3.SA','ABEV3.SA','VALE3.SA'])\n",
    "dados"
   ]
  }
 ],
 "metadata": {
  "kernelspec": {
   "display_name": "Python 3.9.13 ('venv': venv)",
   "language": "python",
   "name": "python3"
  },
  "language_info": {
   "codemirror_mode": {
    "name": "ipython",
    "version": 3
   },
   "file_extension": ".py",
   "mimetype": "text/x-python",
   "name": "python",
   "nbconvert_exporter": "python",
   "pygments_lexer": "ipython3",
   "version": "3.9.13"
  },
  "orig_nbformat": 4,
  "vscode": {
   "interpreter": {
    "hash": "38159399971bf565d641a0429d53c7bb6d59746d22e63c12094a03ab6e0ae145"
   }
  }
 },
 "nbformat": 4,
 "nbformat_minor": 2
}
